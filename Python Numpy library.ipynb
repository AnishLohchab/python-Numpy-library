{
 "cells": [
  {
   "cell_type": "markdown",
   "id": "8e3a914f",
   "metadata": {},
   "source": [
    "# Basic numpy "
   ]
  },
  {
   "cell_type": "markdown",
   "id": "7b8dc09c",
   "metadata": {},
   "source": [
    "Numpy is a python library used for working on arrays.\n",
    "it  also has function for working in domain of linear algebra,fourier transform,and matrices.\n",
    "numpy was created in 2005 by travis oliphant. it is an open source project and you can use it freely.\n",
    "Numpy stands for numerical python\n"
   ]
  },
  {
   "cell_type": "code",
   "execution_count": null,
   "id": "33738ffe",
   "metadata": {},
   "outputs": [],
   "source": [
    "The elements are all of same type , referred to as the array dtype\n",
    "The rank of all the array is the number of dimensions .\n",
    "The shape of the array is a tuple of integers giving the size of the array along each dimensions.\n"
   ]
  },
  {
   "cell_type": "code",
   "execution_count": null,
   "id": "1cfff9de",
   "metadata": {},
   "outputs": [],
   "source": [
    "1D array , 2D array , 3D array ,nd array ,vector , matix"
   ]
  },
  {
   "cell_type": "code",
   "execution_count": null,
   "id": "33de5f4e",
   "metadata": {},
   "outputs": [],
   "source": [
    "to create a basic array we use \n",
    "\n",
    "np.array() , np.zeros() , np.ones() , np.empty() , np.arange() , np.linspace() , dtype\n"
   ]
  },
  {
   "cell_type": "code",
   "execution_count": 3,
   "id": "90f2c76f",
   "metadata": {},
   "outputs": [
    {
     "name": "stdout",
     "output_type": "stream",
     "text": [
      "[1 2 3 4 5]\n"
     ]
    },
    {
     "data": {
      "text/plain": [
       "numpy.ndarray"
      ]
     },
     "execution_count": 3,
     "metadata": {},
     "output_type": "execute_result"
    }
   ],
   "source": [
    "import numpy as np\n",
    "arr = np.array([1,2,3,4,5])\n",
    "\n",
    "print(arr)\n",
    "type(arr)"
   ]
  },
  {
   "cell_type": "code",
   "execution_count": 3,
   "id": "083694a8",
   "metadata": {},
   "outputs": [
    {
     "data": {
      "text/plain": [
       "(5,)"
      ]
     },
     "execution_count": 3,
     "metadata": {},
     "output_type": "execute_result"
    }
   ],
   "source": [
    "np.shape(arr)"
   ]
  },
  {
   "cell_type": "code",
   "execution_count": 8,
   "id": "86611fa5",
   "metadata": {},
   "outputs": [
    {
     "name": "stdout",
     "output_type": "stream",
     "text": [
      "[0. 0.]\n"
     ]
    }
   ],
   "source": [
    "print(np.zeros(2))"
   ]
  },
  {
   "cell_type": "code",
   "execution_count": 9,
   "id": "90490f49",
   "metadata": {},
   "outputs": [
    {
     "name": "stdout",
     "output_type": "stream",
     "text": [
      "[[0. 0. 0.]\n",
      " [0. 0. 0.]]\n"
     ]
    }
   ],
   "source": [
    "print(np.zeros([2,3]))            # 2 stands for rows and 3 stands for columns"
   ]
  },
  {
   "cell_type": "code",
   "execution_count": 20,
   "id": "c4ac8ff0",
   "metadata": {},
   "outputs": [
    {
     "name": "stdout",
     "output_type": "stream",
     "text": [
      "[[1. 1. 1. 1.]\n",
      " [1. 1. 1. 1.]\n",
      " [1. 1. 1. 1.]\n",
      " [1. 1. 1. 1.]]\n"
     ]
    }
   ],
   "source": [
    "print(np.ones([4,4]))          "
   ]
  },
  {
   "cell_type": "code",
   "execution_count": 11,
   "id": "51175a20",
   "metadata": {},
   "outputs": [
    {
     "name": "stdout",
     "output_type": "stream",
     "text": [
      "[3.44899520e-307 3.44900369e-307 3.22646744e-307]\n"
     ]
    }
   ],
   "source": [
    "print(np.empty(3))"
   ]
  },
  {
   "cell_type": "code",
   "execution_count": 8,
   "id": "0870dce6",
   "metadata": {},
   "outputs": [
    {
     "data": {
      "text/plain": [
       "array([ 0.        ,  1.11111111,  2.22222222,  3.33333333,  4.44444444,\n",
       "        5.55555556,  6.66666667,  7.77777778,  8.88888889, 10.        ])"
      ]
     },
     "execution_count": 8,
     "metadata": {},
     "output_type": "execute_result"
    }
   ],
   "source": [
    "np.linspace(0,10,num=10)           # start from 0 and ends at 10 . and num = 10 -> number of values"
   ]
  },
  {
   "cell_type": "code",
   "execution_count": 13,
   "id": "da04190b",
   "metadata": {},
   "outputs": [
    {
     "data": {
      "text/plain": [
       "array([11.        , 16.22222222, 21.44444444, 26.66666667, 31.88888889,\n",
       "       37.11111111, 42.33333333, 47.55555556, 52.77777778, 58.        ])"
      ]
     },
     "execution_count": 13,
     "metadata": {},
     "output_type": "execute_result"
    }
   ],
   "source": [
    "np.linspace(11,58,num=10)"
   ]
  },
  {
   "cell_type": "code",
   "execution_count": 10,
   "id": "6b44f523",
   "metadata": {},
   "outputs": [
    {
     "name": "stdout",
     "output_type": "stream",
     "text": [
      "range(0, 5)\n"
     ]
    },
    {
     "data": {
      "text/plain": [
       "array([ 0,  1,  2,  3,  4,  5,  6,  7,  8,  9, 10, 11, 12, 13, 14])"
      ]
     },
     "execution_count": 10,
     "metadata": {},
     "output_type": "execute_result"
    }
   ],
   "source": [
    "print(range(5))               # gives the range -> (0,5)\n",
    "a = np.arange(15)             # similar to range but it gives the all the values in range from the starting point\n",
    "a"
   ]
  },
  {
   "cell_type": "code",
   "execution_count": 14,
   "id": "b0e703e4",
   "metadata": {},
   "outputs": [
    {
     "data": {
      "text/plain": [
       "array([0, 1, 2, 3, 4, 5])"
      ]
     },
     "execution_count": 14,
     "metadata": {},
     "output_type": "execute_result"
    }
   ],
   "source": [
    "a = np.arange(6)\n",
    "a"
   ]
  },
  {
   "cell_type": "code",
   "execution_count": 15,
   "id": "4c9750d3",
   "metadata": {},
   "outputs": [
    {
     "data": {
      "text/plain": [
       "array([ 0,  1,  2,  3,  4,  5,  6,  7,  8,  9, 10, 11, 12, 13, 14])"
      ]
     },
     "execution_count": 15,
     "metadata": {},
     "output_type": "execute_result"
    }
   ],
   "source": [
    "a = np.arange(15)               \n",
    "a"
   ]
  },
  {
   "cell_type": "code",
   "execution_count": 16,
   "id": "1f30c92e",
   "metadata": {},
   "outputs": [
    {
     "data": {
      "text/plain": [
       "range(0, 6)"
      ]
     },
     "execution_count": 16,
     "metadata": {},
     "output_type": "execute_result"
    }
   ],
   "source": [
    "range(6)"
   ]
  },
  {
   "cell_type": "code",
   "execution_count": 17,
   "id": "bfc93f7e",
   "metadata": {},
   "outputs": [
    {
     "data": {
      "text/plain": [
       "numpy.ndarray"
      ]
     },
     "execution_count": 17,
     "metadata": {},
     "output_type": "execute_result"
    }
   ],
   "source": [
    "type(a)"
   ]
  },
  {
   "cell_type": "code",
   "execution_count": 19,
   "id": "1c3b1224",
   "metadata": {},
   "outputs": [],
   "source": [
    "arr = np.array([1,2,3,4,5])"
   ]
  },
  {
   "cell_type": "code",
   "execution_count": 5,
   "id": "71dcf298",
   "metadata": {},
   "outputs": [
    {
     "name": "stdout",
     "output_type": "stream",
     "text": [
      "[[1 2 3 4 5]\n",
      " [1 2 3 4 5]]\n"
     ]
    },
    {
     "data": {
      "text/plain": [
       "(2, 5)"
      ]
     },
     "execution_count": 5,
     "metadata": {},
     "output_type": "execute_result"
    }
   ],
   "source": [
    "arr2 = np.array([[1,2,3,4,5],[1,2,3,4,5]])\n",
    "print(arr2)\n",
    "np.shape(arr2)"
   ]
  },
  {
   "cell_type": "code",
   "execution_count": 15,
   "id": "2149a071",
   "metadata": {},
   "outputs": [
    {
     "name": "stdout",
     "output_type": "stream",
     "text": [
      "0\n",
      "1\n",
      "2\n",
      "3\n",
      "4\n",
      "5\n"
     ]
    }
   ],
   "source": [
    "for i in range(6):\n",
    "    print(i)"
   ]
  },
  {
   "cell_type": "code",
   "execution_count": 23,
   "id": "a1da7797",
   "metadata": {},
   "outputs": [
    {
     "name": "stdout",
     "output_type": "stream",
     "text": [
      "0\n",
      "1\n",
      "2\n",
      "3\n",
      "4\n",
      "5\n"
     ]
    }
   ],
   "source": [
    "for i in np.arange(6):\n",
    "    print(i)"
   ]
  },
  {
   "cell_type": "code",
   "execution_count": 9,
   "id": "f8c10d5f",
   "metadata": {},
   "outputs": [
    {
     "data": {
      "text/plain": [
       "array([[ 1,  2,  3,  5],\n",
       "       [ 5,  6,  7,  8],\n",
       "       [ 9, 10, 11, 12]])"
      ]
     },
     "execution_count": 9,
     "metadata": {},
     "output_type": "execute_result"
    }
   ],
   "source": [
    "b = np.array([[1,2,3,5],[5,6,7,8],[9,10,11,12]])\n",
    "b"
   ]
  },
  {
   "cell_type": "code",
   "execution_count": 10,
   "id": "0feae6c7",
   "metadata": {},
   "outputs": [
    {
     "data": {
      "text/plain": [
       "array([5, 6, 7, 8])"
      ]
     },
     "execution_count": 10,
     "metadata": {},
     "output_type": "execute_result"
    }
   ],
   "source": [
    "b[1:2][0]                        #slicing"
   ]
  },
  {
   "cell_type": "code",
   "execution_count": 11,
   "id": "eabb1c63",
   "metadata": {},
   "outputs": [
    {
     "data": {
      "text/plain": [
       "6"
      ]
     },
     "execution_count": 11,
     "metadata": {},
     "output_type": "execute_result"
    }
   ],
   "source": [
    "b[1,1]                 # indexing starts from 0 "
   ]
  },
  {
   "cell_type": "code",
   "execution_count": 12,
   "id": "1e34aa3d",
   "metadata": {},
   "outputs": [
    {
     "data": {
      "text/plain": [
       "6"
      ]
     },
     "execution_count": 12,
     "metadata": {},
     "output_type": "execute_result"
    }
   ],
   "source": [
    "b[1][1]"
   ]
  },
  {
   "cell_type": "code",
   "execution_count": 26,
   "id": "dc9c8c17",
   "metadata": {},
   "outputs": [
    {
     "data": {
      "text/plain": [
       "(3, 4)"
      ]
     },
     "execution_count": 26,
     "metadata": {},
     "output_type": "execute_result"
    }
   ],
   "source": [
    "b.shape               #function"
   ]
  },
  {
   "cell_type": "code",
   "execution_count": 27,
   "id": "dd19abe4",
   "metadata": {},
   "outputs": [
    {
     "data": {
      "text/plain": [
       "7"
      ]
     },
     "execution_count": 27,
     "metadata": {},
     "output_type": "execute_result"
    }
   ],
   "source": [
    "b[1][2]"
   ]
  },
  {
   "cell_type": "code",
   "execution_count": 28,
   "id": "d3dae541",
   "metadata": {},
   "outputs": [
    {
     "data": {
      "text/plain": [
       "12"
      ]
     },
     "execution_count": 28,
     "metadata": {},
     "output_type": "execute_result"
    }
   ],
   "source": [
    "b[2][3]"
   ]
  },
  {
   "cell_type": "code",
   "execution_count": 30,
   "id": "5af76874",
   "metadata": {},
   "outputs": [
    {
     "data": {
      "text/plain": [
       "array([ 9, 10, 11, 12])"
      ]
     },
     "execution_count": 30,
     "metadata": {},
     "output_type": "execute_result"
    }
   ],
   "source": [
    "b[:3][2]"
   ]
  },
  {
   "cell_type": "code",
   "execution_count": 33,
   "id": "be55d20d",
   "metadata": {},
   "outputs": [
    {
     "data": {
      "text/plain": [
       "array([[1, 2, 3, 5]])"
      ]
     },
     "execution_count": 33,
     "metadata": {},
     "output_type": "execute_result"
    }
   ],
   "source": [
    "b[0:1][:3]"
   ]
  },
  {
   "cell_type": "code",
   "execution_count": 34,
   "id": "17d75434",
   "metadata": {},
   "outputs": [
    {
     "data": {
      "text/plain": [
       "array([[ 1,  2],\n",
       "       [ 5,  6],\n",
       "       [ 9, 10]])"
      ]
     },
     "execution_count": 34,
     "metadata": {},
     "output_type": "execute_result"
    }
   ],
   "source": [
    "b[0:,0:2]"
   ]
  },
  {
   "cell_type": "code",
   "execution_count": 35,
   "id": "3bb8b240",
   "metadata": {},
   "outputs": [
    {
     "name": "stdout",
     "output_type": "stream",
     "text": [
      "[[ 1  2]\n",
      " [ 3  4]\n",
      " [ 6 80]]\n"
     ]
    }
   ],
   "source": [
    "#more than one dimension\n",
    "a = np.array([[1,2],[3,4],[6,80]])\n",
    "print(a)"
   ]
  },
  {
   "cell_type": "code",
   "execution_count": 15,
   "id": "0409c5b9",
   "metadata": {},
   "outputs": [
    {
     "name": "stdout",
     "output_type": "stream",
     "text": [
      "[[1 2 3 4 5]]\n"
     ]
    }
   ],
   "source": [
    "#minimum dimension\n",
    "\n",
    "a= np.array([1,2,3,4,5],ndmin = 2)\n",
    "print(a)"
   ]
  },
  {
   "cell_type": "code",
   "execution_count": 16,
   "id": "d635e051",
   "metadata": {},
   "outputs": [
    {
     "name": "stdout",
     "output_type": "stream",
     "text": [
      "[[1.+0.j 2.+0.j 3.+0.j 4.+0.j 5.+0.j]]\n"
     ]
    }
   ],
   "source": [
    "a= np.array([1,2,3,4,5],ndmin = 2,dtype = complex)             #dtype is required for making a specially one datatype.\n",
    "print(a)"
   ]
  },
  {
   "cell_type": "code",
   "execution_count": 13,
   "id": "ae9052f0",
   "metadata": {},
   "outputs": [
    {
     "name": "stdout",
     "output_type": "stream",
     "text": [
      "[[1 2 3 4 5]]\n"
     ]
    }
   ],
   "source": [
    "a= np.array([1,2,3,4,5],ndmin = 2,dtype = int)\n",
    "print(a)"
   ]
  },
  {
   "cell_type": "code",
   "execution_count": 14,
   "id": "7d5a9a16",
   "metadata": {},
   "outputs": [
    {
     "name": "stdout",
     "output_type": "stream",
     "text": [
      "[[1. 2. 3. 4. 5.]]\n"
     ]
    }
   ],
   "source": [
    "a= np.array([1,2,3,4,5],ndmin = 2,dtype = float)\n",
    "print(a)"
   ]
  },
  {
   "cell_type": "code",
   "execution_count": 37,
   "id": "20314596",
   "metadata": {},
   "outputs": [
    {
     "name": "stdout",
     "output_type": "stream",
     "text": [
      "[1.+0.j 2.+0.j 3.+0.j]\n"
     ]
    }
   ],
   "source": [
    "#dtype parameter\n",
    "\n",
    "a = np.array([1,2,3],dtype = complex)\n",
    "print(a)"
   ]
  },
  {
   "cell_type": "code",
   "execution_count": 17,
   "id": "9f1830d1",
   "metadata": {},
   "outputs": [
    {
     "name": "stdout",
     "output_type": "stream",
     "text": [
      "int32\n"
     ]
    }
   ],
   "source": [
    "#using array - scalar type\n",
    "\n",
    "dt = np.dtype(np.int32)\n",
    "print(dt)"
   ]
  },
  {
   "cell_type": "code",
   "execution_count": 18,
   "id": "91ddefad",
   "metadata": {},
   "outputs": [
    {
     "name": "stdout",
     "output_type": "stream",
     "text": [
      "int32\n"
     ]
    }
   ],
   "source": [
    "# int8, int16, int32, int64 can be replaced by equivalent string 'i1' , 'i2' , 'i4' , etc.\n",
    "\n",
    "dt1 = np.dtype('i4')\n",
    "print(dt1)"
   ]
  },
  {
   "cell_type": "code",
   "execution_count": 40,
   "id": "df8ee2f4",
   "metadata": {},
   "outputs": [
    {
     "name": "stdout",
     "output_type": "stream",
     "text": [
      "[[1 2]\n",
      " [3 4]\n",
      " [5 6]]\n"
     ]
    }
   ],
   "source": [
    "#this resize the ndarray\n",
    "\n",
    "import numpy as np\n",
    "\n",
    "a= np.array([[1,2,3],[4,5,6]])\n",
    "a.shape = (3,2)\n",
    "print(a)"
   ]
  },
  {
   "cell_type": "code",
   "execution_count": 41,
   "id": "ec41b47a",
   "metadata": {},
   "outputs": [
    {
     "name": "stdout",
     "output_type": "stream",
     "text": [
      "[[1]\n",
      " [2]\n",
      " [3]\n",
      " [4]\n",
      " [5]\n",
      " [6]]\n"
     ]
    }
   ],
   "source": [
    "import numpy as np\n",
    "a = np.array([[1,2,3],[4,5,6]])\n",
    "b = a.reshape(6,1)\n",
    "print(b)"
   ]
  },
  {
   "cell_type": "code",
   "execution_count": 19,
   "id": "77ca1a02",
   "metadata": {},
   "outputs": [
    {
     "name": "stdout",
     "output_type": "stream",
     "text": [
      "[ 0  1  2  3  4  5  6  7  8  9 10 11 12 13 14 15 16 17 18 19 20 21 22 23]\n"
     ]
    }
   ],
   "source": [
    "# an array of evenly spaced numbers\n",
    "\n",
    "import numpy as np\n",
    "a = np.arange(24)\n",
    "print(a)"
   ]
  },
  {
   "cell_type": "code",
   "execution_count": 45,
   "id": "5d46a264",
   "metadata": {},
   "outputs": [
    {
     "name": "stdout",
     "output_type": "stream",
     "text": [
      "1\n",
      "[[[ 0  1  2  3]\n",
      "  [ 4  5  6  7]\n",
      "  [ 8  9 10 11]]\n",
      "\n",
      " [[12 13 14 15]\n",
      "  [16 17 18 19]\n",
      "  [20 21 22 23]]]\n"
     ]
    },
    {
     "data": {
      "text/plain": [
       "(2, 3, 4)"
      ]
     },
     "execution_count": 45,
     "metadata": {},
     "output_type": "execute_result"
    }
   ],
   "source": [
    "#this is one diensional array\n",
    "import numpy as np\n",
    "a = np.arange(24)\n",
    "print(a.ndim)\n",
    "\n",
    "#now reshape it\n",
    "b = a.reshape(2,3,4)            # 2 stands for two different arrays or matices and 3 stands for rows and 4 stands for columns\n",
    "print(b)\n",
    "b.shape\n",
    "#b is having 3D"
   ]
  },
  {
   "cell_type": "code",
   "execution_count": 46,
   "id": "a6593181",
   "metadata": {},
   "outputs": [
    {
     "name": "stdout",
     "output_type": "stream",
     "text": [
      "4\n"
     ]
    }
   ],
   "source": [
    "#dtype of array is  int8(1 byte)\n",
    "\n",
    "import numpy as np\n",
    "x = np.array(b,dtype=np.int32)\n",
    "print(x.itemsize)"
   ]
  },
  {
   "cell_type": "code",
   "execution_count": 47,
   "id": "076ef5e1",
   "metadata": {},
   "outputs": [
    {
     "name": "stdout",
     "output_type": "stream",
     "text": [
      "8\n"
     ]
    }
   ],
   "source": [
    "import numpy as np\n",
    "x = np.array(b,dtype=np.int64)\n",
    "print(x.itemsize)"
   ]
  },
  {
   "cell_type": "code",
   "execution_count": 20,
   "id": "ad4562fc",
   "metadata": {},
   "outputs": [
    {
     "name": "stdout",
     "output_type": "stream",
     "text": [
      "4\n"
     ]
    }
   ],
   "source": [
    "#dtype of array is float32( 4 byte)\n",
    "import numpy as np\n",
    "x = np.array(b,dtype=np.float32)\n",
    "print(x.itemsize)"
   ]
  },
  {
   "cell_type": "markdown",
   "id": "66fccc4d",
   "metadata": {},
   "source": [
    "#adding removing and sorting the elements\n",
    "\n",
    "np.sort() , np.concatenate()"
   ]
  },
  {
   "cell_type": "code",
   "execution_count": 21,
   "id": "b5fbfc81",
   "metadata": {},
   "outputs": [
    {
     "data": {
      "text/plain": [
       "array([1, 2, 3, 4, 5, 6, 7, 8])"
      ]
     },
     "execution_count": 21,
     "metadata": {},
     "output_type": "execute_result"
    }
   ],
   "source": [
    "arr = np.array([2,1,5,3,7,4,6,8])\n",
    "np.sort(arr)"
   ]
  },
  {
   "cell_type": "code",
   "execution_count": 22,
   "id": "3c4e30e2",
   "metadata": {},
   "outputs": [
    {
     "data": {
      "text/plain": [
       "array([1, 2, 3, 4, 5, 6, 7, 8])"
      ]
     },
     "execution_count": 22,
     "metadata": {},
     "output_type": "execute_result"
    }
   ],
   "source": [
    "a = np.array([1,2,3,4])\n",
    "b = np.array([5,6,7,8])\n",
    "np.concatenate((a,b))"
   ]
  },
  {
   "cell_type": "code",
   "execution_count": 26,
   "id": "e478be3f",
   "metadata": {},
   "outputs": [
    {
     "data": {
      "text/plain": [
       "array([[1, 2],\n",
       "       [3, 4],\n",
       "       [5, 6],\n",
       "       [5, 2]])"
      ]
     },
     "execution_count": 26,
     "metadata": {},
     "output_type": "execute_result"
    }
   ],
   "source": [
    "x = np.array([[1,2],[3,4]])\n",
    "y = np.array([[5,6],[5,2]])\n",
    "np.concatenate((x,y), axis = 0)        #axis -> the directions along the rows and columns"
   ]
  },
  {
   "cell_type": "code",
   "execution_count": 27,
   "id": "27595377",
   "metadata": {},
   "outputs": [
    {
     "data": {
      "text/plain": [
       "array([[1, 2, 5, 6],\n",
       "       [3, 4, 5, 2]])"
      ]
     },
     "execution_count": 27,
     "metadata": {},
     "output_type": "execute_result"
    }
   ],
   "source": [
    "np.concatenate((x,y) , axis = 1)"
   ]
  },
  {
   "cell_type": "markdown",
   "id": "36f6d2ee",
   "metadata": {},
   "source": [
    "Element-wise operation operator function\n",
    "Addition + add()\n",
    "subtraction - subtract()\n",
    "multiplication * multiply()\n",
    "division / divide()\n",
    "exponentiation ** power()\n",
    "mudulus % mod()"
   ]
  },
  {
   "cell_type": "code",
   "execution_count": 30,
   "id": "40bcca7d",
   "metadata": {},
   "outputs": [
    {
     "name": "stdout",
     "output_type": "stream",
     "text": [
      "using the + operator :  [ 3  7 11 15]\n",
      "using the add() function :  [ 3  7 11 15]\n"
     ]
    }
   ],
   "source": [
    "import numpy as np\n",
    "\n",
    "first_array = np.array([1,3,5,7])\n",
    "second_array = np.array([2,4,6,8])\n",
    "\n",
    "#using the+ operator\n",
    "\n",
    "result1 = first_array+second_array\n",
    "print(\"using the + operator : \",result1)\n",
    "\n",
    "#using the add() function\n",
    "result2 = np.add(first_array , second_array)\n",
    "print(\"using the add() function : \",result2)"
   ]
  },
  {
   "cell_type": "code",
   "execution_count": 32,
   "id": "85f1d968",
   "metadata": {},
   "outputs": [
    {
     "name": "stdout",
     "output_type": "stream",
     "text": [
      "using the - operator :  [-1 -1 -1 -1]\n",
      "using the subtract() function :  [-1 -1 -1 -1]\n"
     ]
    }
   ],
   "source": [
    "#using the - operator\n",
    "\n",
    "result1 = first_array-second_array\n",
    "print(\"using the - operator : \",result1)\n",
    "\n",
    "#using the subtract() function\n",
    "result2 = np.subtract(first_array , second_array)\n",
    "print(\"using the subtract() function : \",result2)\n"
   ]
  },
  {
   "cell_type": "code",
   "execution_count": 33,
   "id": "0ad94236",
   "metadata": {},
   "outputs": [
    {
     "name": "stdout",
     "output_type": "stream",
     "text": [
      "using the * operator :  [ 2 12 30 56]\n",
      "using the multiply() function :  [ 2 12 30 56]\n"
     ]
    }
   ],
   "source": [
    "#using the * operator\n",
    "\n",
    "result1 = first_array*second_array\n",
    "print(\"using the * operator : \",result1)\n",
    "\n",
    "#using the multiply() function\n",
    "result2 = np.multiply(first_array , second_array)\n",
    "print(\"using the multiply() function : \",result2)\n"
   ]
  },
  {
   "cell_type": "code",
   "execution_count": 34,
   "id": "45a5957d",
   "metadata": {},
   "outputs": [
    {
     "name": "stdout",
     "output_type": "stream",
     "text": [
      "using the / operator :  [0.5        0.75       0.83333333 0.875     ]\n",
      "using the divide() function :  [0.5        0.75       0.83333333 0.875     ]\n"
     ]
    }
   ],
   "source": [
    "#using the / operator\n",
    "\n",
    "result1 = first_array/second_array\n",
    "print(\"using the / operator : \",result1)\n",
    "\n",
    "#using the divide() function\n",
    "result2 = np.divide(first_array , second_array)\n",
    "print(\"using the divide() function : \",result2)\n"
   ]
  },
  {
   "cell_type": "markdown",
   "id": "698b9e0a",
   "metadata": {},
   "source": [
    "Array operations  --> functions\n",
    "Array creation functions --> np.array(), np.zeros(), np.ones(), np.empty(), np.linspace(),etc\n",
    "Array manipulation functions --> np.reshape(), np.transpose(),etc\n",
    "Array mathematical functions -->  np.add(), np.subtract(), np.multiply(), np.divide(), etc\n",
    "Array statistical functions --> np.mean(), np.median(), np.std(), np.var()\n",
    "Array input and output functions --> np.save(), np.load(), np.loadtxt(), etc"
   ]
  },
  {
   "cell_type": "code",
   "execution_count": 49,
   "id": "02b0bd65",
   "metadata": {},
   "outputs": [
    {
     "name": "stdout",
     "output_type": "stream",
     "text": [
      "[1 3 5 7]\n"
     ]
    }
   ],
   "source": [
    "first_array = np.array([1,3,5,7])\n",
    "np.transpose(first_array,axes = 0)\n",
    "\n",
    "print(first_array.transpose())"
   ]
  },
  {
   "cell_type": "code",
   "execution_count": 40,
   "id": "0c224b76",
   "metadata": {},
   "outputs": [
    {
     "data": {
      "text/plain": [
       "108023.78205128205"
      ]
     },
     "execution_count": 40,
     "metadata": {},
     "output_type": "execute_result"
    }
   ],
   "source": [
    "#task:  load the salaries.csv files,calculate the mean salary using np.mean()\n",
    "\n",
    "import pandas as pd\n",
    "salaries_df = pd.read_csv(r\"C:\\Users\\Anish\\Downloads\\Salaries.csv\")\n",
    "np.mean(salaries_df['salary'])"
   ]
  },
  {
   "cell_type": "code",
   "execution_count": 41,
   "id": "76a31896",
   "metadata": {},
   "outputs": [
    {
     "data": {
      "text/plain": [
       "104671.0"
      ]
     },
     "execution_count": 41,
     "metadata": {},
     "output_type": "execute_result"
    }
   ],
   "source": [
    "np.median(salaries_df['salary'])            # in numpy we dont have mode function"
   ]
  },
  {
   "cell_type": "code",
   "execution_count": 42,
   "id": "2b613e0d",
   "metadata": {},
   "outputs": [
    {
     "data": {
      "text/plain": [
       "0    92000\n",
       "Name: salary, dtype: int64"
      ]
     },
     "execution_count": 42,
     "metadata": {},
     "output_type": "execute_result"
    }
   ],
   "source": [
    "salaries_df['salary'].mode()"
   ]
  },
  {
   "cell_type": "code",
   "execution_count": 43,
   "id": "92f22b47",
   "metadata": {},
   "outputs": [
    {
     "name": "stdout",
     "output_type": "stream",
     "text": [
      "88612.5\n"
     ]
    }
   ],
   "source": [
    "np.quantile(salaries_df['salary'],0.5)\n",
    "q1 = np.quantile(salaries_df['salary'],0.25)\n",
    "print(q1)"
   ]
  },
  {
   "cell_type": "code",
   "execution_count": 44,
   "id": "a6af0d3e",
   "metadata": {},
   "outputs": [
    {
     "name": "stdout",
     "output_type": "stream",
     "text": [
      "126774.75\n",
      "19081.125\n"
     ]
    },
    {
     "data": {
      "text/plain": [
       "[98153.0625, 117234.1875]"
      ]
     },
     "execution_count": 44,
     "metadata": {},
     "output_type": "execute_result"
    }
   ],
   "source": [
    "q3 = np.quantile(salaries_df['salary'],0.75)\n",
    "print(q3)\n",
    "\n",
    "iqr = (q3-q1)/2\n",
    "print(iqr)\n",
    "\n",
    "[q3-1.5*iqr , q1+1.5*iqr]\n",
    "min,max = q3-1.5*iqr , q1+1.5*iqr\n",
    "iqrrange = [min,max]\n",
    "iqrrange"
   ]
  },
  {
   "cell_type": "code",
   "execution_count": 39,
   "id": "02fda2c9",
   "metadata": {},
   "outputs": [
    {
     "data": {
      "text/plain": [
       "count        78.000000\n",
       "mean     108023.782051\n",
       "std       28293.661022\n",
       "min       57800.000000\n",
       "25%       88612.500000\n",
       "50%      104671.000000\n",
       "75%      126774.750000\n",
       "max      186960.000000\n",
       "Name: salary, dtype: float64"
      ]
     },
     "execution_count": 39,
     "metadata": {},
     "output_type": "execute_result"
    }
   ],
   "source": [
    "salaries_df['salary'].describe()"
   ]
  },
  {
   "cell_type": "code",
   "execution_count": 46,
   "id": "e3b8ea9d",
   "metadata": {},
   "outputs": [
    {
     "data": {
      "text/html": [
       "<div>\n",
       "<style scoped>\n",
       "    .dataframe tbody tr th:only-of-type {\n",
       "        vertical-align: middle;\n",
       "    }\n",
       "\n",
       "    .dataframe tbody tr th {\n",
       "        vertical-align: top;\n",
       "    }\n",
       "\n",
       "    .dataframe thead th {\n",
       "        text-align: right;\n",
       "    }\n",
       "</style>\n",
       "<table border=\"1\" class=\"dataframe\">\n",
       "  <thead>\n",
       "    <tr style=\"text-align: right;\">\n",
       "      <th></th>\n",
       "      <th>phd</th>\n",
       "      <th>service</th>\n",
       "      <th>salary</th>\n",
       "    </tr>\n",
       "  </thead>\n",
       "  <tbody>\n",
       "    <tr>\n",
       "      <th>count</th>\n",
       "      <td>19.000000</td>\n",
       "      <td>19.000000</td>\n",
       "      <td>19.000000</td>\n",
       "    </tr>\n",
       "    <tr>\n",
       "      <th>mean</th>\n",
       "      <td>20.052632</td>\n",
       "      <td>13.000000</td>\n",
       "      <td>106367.526316</td>\n",
       "    </tr>\n",
       "    <tr>\n",
       "      <th>std</th>\n",
       "      <td>7.523841</td>\n",
       "      <td>8.034647</td>\n",
       "      <td>4062.946268</td>\n",
       "    </tr>\n",
       "    <tr>\n",
       "      <th>min</th>\n",
       "      <td>9.000000</td>\n",
       "      <td>0.000000</td>\n",
       "      <td>99418.000000</td>\n",
       "    </tr>\n",
       "    <tr>\n",
       "      <th>25%</th>\n",
       "      <td>13.500000</td>\n",
       "      <td>7.000000</td>\n",
       "      <td>103681.500000</td>\n",
       "    </tr>\n",
       "    <tr>\n",
       "      <th>50%</th>\n",
       "      <td>19.000000</td>\n",
       "      <td>10.000000</td>\n",
       "      <td>105000.000000</td>\n",
       "    </tr>\n",
       "    <tr>\n",
       "      <th>75%</th>\n",
       "      <td>25.000000</td>\n",
       "      <td>17.500000</td>\n",
       "      <td>109648.000000</td>\n",
       "    </tr>\n",
       "    <tr>\n",
       "      <th>max</th>\n",
       "      <td>35.000000</td>\n",
       "      <td>31.000000</td>\n",
       "      <td>116450.000000</td>\n",
       "    </tr>\n",
       "  </tbody>\n",
       "</table>\n",
       "</div>"
      ],
      "text/plain": [
       "             phd    service         salary\n",
       "count  19.000000  19.000000      19.000000\n",
       "mean   20.052632  13.000000  106367.526316\n",
       "std     7.523841   8.034647    4062.946268\n",
       "min     9.000000   0.000000   99418.000000\n",
       "25%    13.500000   7.000000  103681.500000\n",
       "50%    19.000000  10.000000  105000.000000\n",
       "75%    25.000000  17.500000  109648.000000\n",
       "max    35.000000  31.000000  116450.000000"
      ]
     },
     "execution_count": 46,
     "metadata": {},
     "output_type": "execute_result"
    }
   ],
   "source": [
    "salaries_df[(salaries_df['salary']>min) & (salaries_df['salary']<max)].describe()"
   ]
  },
  {
   "cell_type": "markdown",
   "id": "0eaf1c5e",
   "metadata": {},
   "source": [
    "Save the data in numpy"
   ]
  },
  {
   "cell_type": "code",
   "execution_count": 5,
   "id": "b0fa1791",
   "metadata": {},
   "outputs": [],
   "source": [
    "import numpy as np\n",
    "\n",
    "#create an array \n",
    "array1 = np.array([[1,3,5],[2,4,6]])\n",
    "\n",
    "#save the array to a text file\n",
    "np.savetxt('data.txt',array1)\n"
   ]
  },
  {
   "cell_type": "code",
   "execution_count": 9,
   "id": "f506c2ea",
   "metadata": {},
   "outputs": [
    {
     "name": "stdout",
     "output_type": "stream",
     "text": [
      "[[1. 3. 5.]\n",
      " [2. 4. 6.]]\n"
     ]
    }
   ],
   "source": [
    "#load the data from the text file\n",
    "loaded_data = np.loadtxt('data.txt')          #loadtxt is a function to load the data whichever data is present in the file\n",
    "\n",
    "#print the loaded data\n",
    "print(loaded_data)"
   ]
  },
  {
   "cell_type": "markdown",
   "id": "26a43ac0",
   "metadata": {},
   "source": [
    "Operator descrption\n",
    "\n",
    "<(less than)\n",
    "<= (less than or equals to)\n",
    ">(greater than)\n",
    ">=(greater than or equals to)\n",
    "==(equals to)\n",
    "!=(not equals to)"
   ]
  },
  {
   "cell_type": "code",
   "execution_count": 10,
   "id": "bbeee2ba",
   "metadata": {},
   "outputs": [
    {
     "name": "stdout",
     "output_type": "stream",
     "text": [
      "array1 < array2 : [ True False False]\n",
      "array1 > array2 : [False False  True]\n",
      "array1 == array2 : [False  True False]\n"
     ]
    }
   ],
   "source": [
    "import numpy as np\n",
    "\n",
    "array1 = np.array([1,2,3])\n",
    "array2 = np.array([3,2,1])\n",
    "\n",
    "#less than operator\n",
    "result1 = array1 < array2\n",
    "print(\"array1 < array2 :\" , result1)        #output :[True FAlse False]\n",
    "\n",
    "#greater than operator\n",
    "result2 = array1 > array2\n",
    "print(\"array1 > array2 :\" , result2)    # output:[False False True]\n",
    "\n",
    "#equals to operator\n",
    "result3 = array1 == array2\n",
    "print(\"array1 == array2 :\" , result3)         #output:[False True False]"
   ]
  },
  {
   "cell_type": "markdown",
   "id": "ad94020a",
   "metadata": {},
   "source": [
    "Operator descrption\n",
    "\n",
    "less()\n",
    "less_equal()\n",
    "greater()\n",
    "greater_equal()\n",
    "equal()\n",
    "not_equal()"
   ]
  },
  {
   "cell_type": "code",
   "execution_count": 11,
   "id": "4a2fbc2a",
   "metadata": {},
   "outputs": [
    {
     "name": "stdout",
     "output_type": "stream",
     "text": [
      "using the less() [ True False False]\n",
      "using the less_equal() [ True  True False]\n",
      "using the greater() [False False  True]\n",
      "using the greater_equal() [False  True  True]\n",
      "using the equal() [False  True False]\n"
     ]
    }
   ],
   "source": [
    "import numpy as np\n",
    "\n",
    "array1 = np.array([9,12,21])\n",
    "array2 = np.array([21,12,9])\n",
    "\n",
    "\n",
    "#use of less()\n",
    "result = np.less(array1,array2)\n",
    "print(\"using the less()\",result)\n",
    "\n",
    "#use of less_equal()\n",
    "result = np.less_equal(array1,array2)\n",
    "print(\"using the less_equal()\",result)\n",
    "\n",
    "#use of greater()\n",
    "result = np.greater(array1,array2)\n",
    "print(\"using the greater()\",result)\n",
    "\n",
    "#use of greater_equal()\n",
    "result = np.greater_equal(array1,array2)\n",
    "print(\"using the greater_equal()\",result)\n",
    "\n",
    "#use of equal()\n",
    "result = np.equal(array1,array2)\n",
    "print(\"using the equal()\",result)\n",
    "\n",
    "\n",
    "\n"
   ]
  },
  {
   "cell_type": "markdown",
   "id": "a266cc9a",
   "metadata": {},
   "source": [
    "operator description\n",
    "\n",
    "logical_and  ->  computes the elements wise truth value of x1 AND x2\n",
    "logical_or  ->  computes the elements wise truth value of x1 OR x2\n",
    "logical_not  ->  computes the elements wise truth value of x1 NOT x2"
   ]
  },
  {
   "cell_type": "code",
   "execution_count": 12,
   "id": "120096f0",
   "metadata": {},
   "outputs": [
    {
     "name": "stdout",
     "output_type": "stream",
     "text": [
      "[False False  True]\n",
      "[ True False  True]\n",
      "[False  True False]\n"
     ]
    }
   ],
   "source": [
    "import numpy as np\n",
    "\n",
    "x1 = np.array([True,False,True])\n",
    "x2 = np.array([False,False,True])\n",
    "\n",
    "#logical AND\n",
    "print(np.logical_and(x1,x2))\n",
    "\n",
    "#logical OR\n",
    "print(np.logical_or(x1,x2))\n",
    "\n",
    "#logical NOT\n",
    "print(np.logical_not(x1))"
   ]
  },
  {
   "cell_type": "markdown",
   "id": "5ce2df80",
   "metadata": {},
   "source": [
    "Trignometry Function --> computes(in radians)\n",
    "\n",
    "sin() -> the sine of an angle\n",
    "cos()  -> the cosine of an angle\n",
    "tan() -> tangent of an angle\n",
    "arcsin() -> the inverse sin\n",
    "arccos() -> the inverse of cosin\n",
    "arctan()  -> the inverse of tangent\n",
    "degree() -> converts an angle in radians to degree\n",
    "radians() -> converts an angle in degree to radians"
   ]
  },
  {
   "cell_type": "code",
   "execution_count": 13,
   "id": "78540090",
   "metadata": {},
   "outputs": [
    {
     "name": "stdout",
     "output_type": "stream",
     "text": [
      "sine values : [0.         0.84147098 0.90929743]\n",
      " inverse sine values : [0.         1.57079633        nan]\n"
     ]
    },
    {
     "name": "stderr",
     "output_type": "stream",
     "text": [
      "C:\\Users\\Anish\\AppData\\Local\\Temp\\ipykernel_9296\\93628105.py:11: RuntimeWarning: invalid value encountered in arcsin\n",
      "  inverse_sine = np.arcsin(angles)\n"
     ]
    }
   ],
   "source": [
    "import numpy as np\n",
    "\n",
    "#array of angles in radians\n",
    "angles = np.array([0,1,2])\n",
    "\n",
    "#compute the sine of the angles\n",
    "sine_values = np.sin(angles)\n",
    "print(\"sine values :\",sine_values)\n",
    "\n",
    "#compute the inverse of the angles\n",
    "inverse_sine = np.arcsin(angles)\n",
    "print(\" inverse sine values :\", inverse_sine)\n"
   ]
  },
  {
   "cell_type": "code",
   "execution_count": 15,
   "id": "a4ee8123",
   "metadata": {},
   "outputs": [
    {
     "name": "stdout",
     "output_type": "stream",
     "text": [
      "initial angle in radian\n",
      "angle in radians (after conversion:) 1.570796\n"
     ]
    }
   ],
   "source": [
    "import numpy as np\n",
    "\n",
    "#deefine the angle in radian\n",
    "angle = 1.570796\n",
    "print(\"initial angle in radian\")\n",
    "\n",
    "#convert the angle to degree\n",
    "angle_degree = np.degrees(angle)\n",
    "\n",
    "#convert the angle back to radians\n",
    "angle_radian = np.radians(angle_degree)\n",
    "print(\"angle in radians (after conversion:)\",angle_radian)"
   ]
  },
  {
   "cell_type": "markdown",
   "id": "84626dcb",
   "metadata": {},
   "source": [
    "rounding function\n",
    "\n",
    "round() -> returns the value rounded to a desired precision \n",
    "floor() -> returns the values of aray down to the nearest integer that is less than each element \n",
    "ceil() -> returns the values of arrsy up to the nearest integer that is greater than each element ."
   ]
  },
  {
   "cell_type": "code",
   "execution_count": 1,
   "id": "4f457bc7",
   "metadata": {},
   "outputs": [
    {
     "name": "stdout",
     "output_type": "stream",
     "text": [
      "[1.23 3.46 4.57]\n",
      "array after floor() :  [1. 3. 4.]\n",
      "array after ceil :  [2. 4. 5.]\n"
     ]
    }
   ],
   "source": [
    "import numpy as np\n",
    "\n",
    "numbers = np.array([1.23456 , 3.45678 , 4.56789])\n",
    "\n",
    "#round the array to the two decimal places\n",
    "rounded_array = np.round(numbers,2)\n",
    "\n",
    "print(rounded_array)\n",
    "\n",
    "#output: [1.23 3.45 4.57]\n",
    "\n",
    "import numpy as np\n",
    "\n",
    "array1 = np.array([1.23456 , 3.45678 , 4.56789])\n",
    "print(\"array after floor() : \", np.floor(array1))\n",
    "print(\"array after ceil : \" ,np.ceil(array1))"
   ]
  },
  {
   "cell_type": "markdown",
   "id": "1df6dac6",
   "metadata": {},
   "source": [
    "Numpy constants\n",
    "In Numpy, the most commomly used constants are pi and e"
   ]
  },
  {
   "cell_type": "code",
   "execution_count": 3,
   "id": "09cfc509",
   "metadata": {},
   "outputs": [
    {
     "name": "stdout",
     "output_type": "stream",
     "text": [
      "12.566370614359172\n",
      "2.718281828459045\n",
      "3.141592653589793\n"
     ]
    }
   ],
   "source": [
    "import numpy as np\n",
    "\n",
    "radius = 2\n",
    "circumference = 2*np.pi*radius\n",
    "print(circumference)\n",
    "\n",
    "import numpy as np\n",
    "\n",
    "y = np.e\n",
    "\n",
    "print(y)\n",
    "print(np.pi)"
   ]
  },
  {
   "cell_type": "markdown",
   "id": "51cbedb6",
   "metadata": {},
   "source": [
    "Statistical Function\n",
    "\n",
    "functions  -> description\n",
    "median() -> returns the median of an array\n",
    "mean() -> returns the mean of an array\n",
    "std() -> returns the standard deviation of an array\n",
    "percentile() -> returns the nth percentile of elements in an array\n",
    "min() -> retuns the minimum element of an array\n",
    "max() -> returns the maximum element of an array\n",
    "\n",
    "\n"
   ]
  },
  {
   "cell_type": "code",
   "execution_count": 5,
   "id": "9fcac900",
   "metadata": {},
   "outputs": [
    {
     "name": "stdout",
     "output_type": "stream",
     "text": [
      "3.5\n"
     ]
    }
   ],
   "source": [
    "import numpy as np\n",
    "\n",
    "#create a 1D array with 5 elements\n",
    "array1 = np.array([1,2,3,4,5])\n",
    "\n",
    "#calculate the median\n",
    "median = np.median(array1)\n",
    "\n",
    "#output: 3.0\n",
    "\n",
    "import numpy as np\n",
    "\n",
    "#create a 1D array with 6 elements\n",
    "array1  = np.array([1,2,3,4,5,6])\n",
    "\n",
    "#calculate the median\n",
    "median = np.median(array1)\n",
    "print(median)\n",
    "\n",
    "#output: 3.5\n"
   ]
  },
  {
   "cell_type": "code",
   "execution_count": 7,
   "id": "7d583e45",
   "metadata": {},
   "outputs": [
    {
     "name": "stdout",
     "output_type": "stream",
     "text": [
      "median along horizontal axis : [ 4. 10. 18.]\n",
      "median along verical axis: [ 8. 10. 12.]\n",
      "median of entire array: 10.0\n"
     ]
    }
   ],
   "source": [
    "import numpy as np\n",
    "\n",
    "#create a 2D array\n",
    "array1 = np.array([[2,4,5],\n",
    "                  [8,10,12],\n",
    "                  [14,26,18]])\n",
    "\n",
    "#compute median along horizontal AXIS \n",
    "result1 = np.median(array1,axis=1)\n",
    "print(\"median along horizontal axis :\",result1)\n",
    "\n",
    "#compute median along verical axis \n",
    "result2 = np.median(array1, axis=0)\n",
    "print(\"median along verical axis:\", result2)\n",
    "\n",
    "#compute median of entire array\n",
    "result3 = np.median(array1)\n",
    "print(\"median of entire array:\",result3)\n"
   ]
  },
  {
   "cell_type": "code",
   "execution_count": 8,
   "id": "74a8b480",
   "metadata": {},
   "outputs": [
    {
     "name": "stdout",
     "output_type": "stream",
     "text": [
      "77.2\n"
     ]
    }
   ],
   "source": [
    "import numpy as np\n",
    "\n",
    "#create a numpy array\n",
    "marks = np.array([76,78,81,66,85])\n",
    "\n",
    "#compute the mean of marks\n",
    "mean_marks = np.mean(marks)\n",
    "\n",
    "print(mean_marks)\n"
   ]
  },
  {
   "cell_type": "code",
   "execution_count": 9,
   "id": "96c9070f",
   "metadata": {},
   "outputs": [
    {
     "name": "stdout",
     "output_type": "stream",
     "text": [
      "std along horizontal axis : [1.24721913 1.63299316 4.98887652]\n",
      "std along horizontal axis : [4.89897949 9.28559218 5.31245915]\n",
      "std of entire array : 7.1492035298424055\n"
     ]
    }
   ],
   "source": [
    "import numpy as np\n",
    "\n",
    "#create a 2D array\n",
    "array1 = np.array([[2,4,5],\n",
    "                  [8,10,12],\n",
    "                  [14,26,18]])\n",
    "#compute a std along horizontal axis\n",
    "result1 = np.std(array1 , axis=1)\n",
    "print(\"std along horizontal axis :\",result1)\n",
    "\n",
    "#compute a std along a vertical axis\n",
    "result2 = np.std(array1 , axis=0)\n",
    "print(\"std along horizontal axis :\",result2)\n",
    "\n",
    "#compute std of entire array\n",
    "result3 = np.std(array1)\n",
    "print(\"std of entire array :\",result3)\n"
   ]
  },
  {
   "cell_type": "code",
   "execution_count": 11,
   "id": "bc6905c5",
   "metadata": {},
   "outputs": [
    {
     "name": "stdout",
     "output_type": "stream",
     "text": [
      "25th percentile : 5.0\n",
      "75th percentile : 13.0\n"
     ]
    }
   ],
   "source": [
    "import numpy as np\n",
    "\n",
    "#create an array\n",
    "array1 = np.array([1,3,5,7,9,11,13,15,17])\n",
    "\n",
    "#compute the 25th percentile of an array\n",
    "result1 = np.percentile(array1,25)\n",
    "print(\"25th percentile :\",result1)\n",
    "\n",
    "#compiute the 75th percentile of an array\n",
    "result2 = np.percentile(array1,75)\n",
    "print(\"75th percentile :\",result2)\n",
    "      \n",
    "      "
   ]
  },
  {
   "cell_type": "code",
   "execution_count": null,
   "id": "115141f5",
   "metadata": {},
   "outputs": [],
   "source": [
    "String functions\n",
    "\n",
    "functions -> description\n",
    "add() -> comcatenates two strings\n",
    "multiply() -> repeates a string for a specified number of times\n",
    "capitalize() -> capitalizze the first letter of a string\n",
    "lower() -> converts all upercase character in a string to lowercase\n",
    "upper() -> converts all the lower case character in a string to upercase'\n",
    "join() -> joins a sequence of strings\n",
    "equals() -> checks if two strings are equal or not\n"
   ]
  },
  {
   "cell_type": "code",
   "execution_count": 12,
   "id": "a0b2daac",
   "metadata": {},
   "outputs": [
    {
     "name": "stdout",
     "output_type": "stream",
     "text": [
      "['iphone:15' 'price:$900']\n"
     ]
    }
   ],
   "source": [
    "import numpy as np\n",
    "\n",
    "array1 = np.array(['iphone:','price:'])\n",
    "array2 = np.array(['15','$900'])\n",
    "\n",
    "#perform element wise array string concatenation\n",
    "result = np.char.add(array1,array2)           #char is used to know that it is a string related data\n",
    "\n",
    "print(result)\n"
   ]
  },
  {
   "cell_type": "code",
   "execution_count": 13,
   "id": "c344c722",
   "metadata": {},
   "outputs": [
    {
     "name": "stdout",
     "output_type": "stream",
     "text": [
      "['AA' 'BB' 'CC']\n"
     ]
    }
   ],
   "source": [
    "import numpy as np\n",
    "\n",
    "#define array with three string elements \n",
    "array1 = np.array(['A','B','C'])\n",
    "\n",
    "#repeat each elements in array1 two times\n",
    "result = np.char.multiply(array1,2)\n",
    "\n",
    "print(result)"
   ]
  },
  {
   "cell_type": "code",
   "execution_count": 14,
   "id": "5b944224",
   "metadata": {},
   "outputs": [
    {
     "name": "stdout",
     "output_type": "stream",
     "text": [
      "['Eric' 'Paul' 'Sean']\n"
     ]
    }
   ],
   "source": [
    "import numpy as np\n",
    "\n",
    "#define an array with three string elemets\n",
    "array1 = np.array(['eric','paul','sean'])\n",
    "\n",
    "#capitalize the first letter of each string in array1\n",
    "result = np.char.capitalize(array1)\n",
    "\n",
    "print(result)"
   ]
  },
  {
   "cell_type": "code",
   "execution_count": 15,
   "id": "cb485117",
   "metadata": {},
   "outputs": [
    {
     "name": "stdout",
     "output_type": "stream",
     "text": [
      "to uppercase:  ['NEAPALI' 'AMERICAN' 'CANADIAN']\n",
      "to lowercase: ['neapali' 'american' 'canadian']\n"
     ]
    }
   ],
   "source": [
    "import numpy as np\n",
    "\n",
    "array1 = np.array(['nEaPali','AmeriCan','CaNadIan'])\n",
    "\n",
    "#converts all string elements to uppercase\n",
    "result1 = np.char.upper(array1)\n",
    "\n",
    "#converts all strings elements to lowercase\n",
    "result2 = np.char.lower(array1)\n",
    "\n",
    "print(\"to uppercase: \",result1)\n",
    "print(\"to lowercase:\",result2)"
   ]
  },
  {
   "cell_type": "code",
   "execution_count": 16,
   "id": "d62b7245",
   "metadata": {},
   "outputs": [
    {
     "name": "stdout",
     "output_type": "stream",
     "text": [
      "['h-e-l-l-o' 'w-o-r-l-d']\n"
     ]
    }
   ],
   "source": [
    "import numpy as np\n",
    "\n",
    "#create an array of strings\n",
    "array1 = np.array(['hello','world'])\n",
    "\n",
    "#join the string in the array using a dash as the delimiter\n",
    "result = np.char.join('-',array1)\n",
    "\n",
    "print(result)"
   ]
  },
  {
   "cell_type": "code",
   "execution_count": 17,
   "id": "63cf5523",
   "metadata": {},
   "outputs": [
    {
     "name": "stdout",
     "output_type": "stream",
     "text": [
      "[ True  True False]\n"
     ]
    }
   ],
   "source": [
    "import numpy as np\n",
    "\n",
    "#crete two array of strings\n",
    "array1 = np.array(['C','Python','Swift'])\n",
    "array2 = np.array(['C','Python','java'])\n",
    "\n",
    "#check if each element of array is equal\n",
    "result = np.char.equal(array1,array2)\n",
    "\n",
    "print(result)\n"
   ]
  },
  {
   "cell_type": "code",
   "execution_count": 18,
   "id": "a6c3f807",
   "metadata": {},
   "outputs": [
    {
     "name": "stdout",
     "output_type": "stream",
     "text": [
      "[[2 3 4]\n",
      " [3 4 5]\n",
      " [4 5 6]]\n"
     ]
    }
   ],
   "source": [
    "#numpy broadcasting\n",
    "\n",
    "import numpy as np\n",
    "\n",
    "#create 1-D array\n",
    "array1 = np.array([1,2,3])\n",
    "\n",
    "#create 2-D array\n",
    "array2 = np.array([[1],[2],[3]])\n",
    "\n",
    "#add arrays of diferent dimension \n",
    "#size of array1 expands to match with array2\n",
    "\n",
    "sum = array1+array2\n",
    "\n",
    "print(sum)"
   ]
  },
  {
   "cell_type": "code",
   "execution_count": null,
   "id": "47a91185",
   "metadata": {},
   "outputs": [],
   "source": [
    "#numpy matrix operations\n",
    "\n",
    "functions -> description\n",
    "array() -> create a matrix\n",
    "dot() -> perform matrix multiplication\n",
    "transpose() -> transpose a matrix\n",
    "linalg.inv() -> calculates the inverse of matrix\n",
    "linalg.det() -> calculaets the determinant of a matrix\n",
    "flatten() -> transform a matrix into 1D array"
   ]
  },
  {
   "cell_type": "code",
   "execution_count": 20,
   "id": "7fe728f9",
   "metadata": {},
   "outputs": [
    {
     "name": "stdout",
     "output_type": "stream",
     "text": [
      "2X2 matrix : \n",
      " [[1 3]\n",
      " [5 7]]\n",
      "\n",
      " 3X3 matrix :\n",
      " [[ 2  3  5]\n",
      " [ 7 14 21]\n",
      " [ 1  3  5]]\n"
     ]
    }
   ],
   "source": [
    "import numpy as np\n",
    "\n",
    "#create a 2X2 matrix\n",
    "matrix1 = np.array([[1,3],\n",
    "                   [5,7]])\n",
    "\n",
    "print(\"2X2 matrix : \\n\",matrix1)\n",
    "\n",
    "#create a 3X3 matrix\n",
    "matrix2 = np.array([[2,3,5],\n",
    "                   [7,14,21],\n",
    "                   [1,3,5]])\n",
    "\n",
    "print(\"\\n 3X3 matrix :\\n\",matrix2)"
   ]
  },
  {
   "cell_type": "code",
   "execution_count": 21,
   "id": "f5629b97",
   "metadata": {},
   "outputs": [
    {
     "name": "stdout",
     "output_type": "stream",
     "text": [
      "matrix1 X matrix2: \n",
      " [[14 30]\n",
      " [38 86]]\n"
     ]
    }
   ],
   "source": [
    "import numpy as np\n",
    "\n",
    "#creates two matrices\n",
    "matrix1 = np.array([[1,3],\n",
    "                   [5,7]])\n",
    "\n",
    "matrix2 = np.array([[2,6],\n",
    "                   [4,8]])\n",
    "\n",
    "#calculate the dot product of the two matrices\n",
    "result = np.dot(matrix1,matrix2)\n",
    "\n",
    "print(\"matrix1 X matrix2: \\n\",result)"
   ]
  },
  {
   "cell_type": "code",
   "execution_count": 22,
   "id": "22c99c0f",
   "metadata": {},
   "outputs": [
    {
     "data": {
      "text/plain": [
       "array([[ 2, 18],\n",
       "       [20, 56]])"
      ]
     },
     "execution_count": 22,
     "metadata": {},
     "output_type": "execute_result"
    }
   ],
   "source": [
    "np.multiply(matrix1,matrix2)"
   ]
  },
  {
   "cell_type": "code",
   "execution_count": 23,
   "id": "72c44867",
   "metadata": {},
   "outputs": [
    {
     "name": "stdout",
     "output_type": "stream",
     "text": [
      "[[1 5]\n",
      " [3 7]]\n"
     ]
    }
   ],
   "source": [
    "import numpy as np\n",
    "\n",
    "#create a matrix\n",
    "matrix1 = np.array([[1,3],[5,7]])\n",
    "\n",
    "#get transpose of matrix1\n",
    "result = np.transpose(matrix1)\n",
    "\n",
    "print(result)\n"
   ]
  },
  {
   "cell_type": "code",
   "execution_count": 27,
   "id": "d9f79982",
   "metadata": {},
   "outputs": [
    {
     "name": "stdout",
     "output_type": "stream",
     "text": [
      "[[-0.875  0.375]\n",
      " [ 0.625 -0.125]]\n"
     ]
    }
   ],
   "source": [
    "import numpy as np\n",
    "\n",
    "#create a 3X3 square matrix\n",
    "matrix = np.array([[[1,3,5],[7,9,2],\n",
    "                    [4,6,8]]])\n",
    "\n",
    "#find inverse of matrix\n",
    "result = np.linalg.inv(matrix1)\n",
    "\n",
    "print(result)"
   ]
  },
  {
   "cell_type": "code",
   "execution_count": 28,
   "id": "cd6e7dcf",
   "metadata": {},
   "outputs": [
    {
     "name": "stdout",
     "output_type": "stream",
     "text": [
      "-4.999999999999999\n"
     ]
    }
   ],
   "source": [
    "import numpy as np\n",
    " #create a matrix\n",
    "matrix1 = np.array([[1,2,3],[4,5,1],[2,3,4]])\n",
    "\n",
    "#find determinant of matrix1\n",
    "result = np.linalg.det(matrix1)\n",
    "\n",
    "print(result)"
   ]
  },
  {
   "cell_type": "code",
   "execution_count": 29,
   "id": "ed67c363",
   "metadata": {},
   "outputs": [
    {
     "name": "stdout",
     "output_type": "stream",
     "text": [
      "flattened 2X3 matrix: [1 2 3 4 5 7]\n"
     ]
    }
   ],
   "source": [
    "#flattern matrix in numpy\n",
    "\n",
    "import numpy as np\n",
    "\n",
    "#create a 2X3 matrix\n",
    "matrix1 = np.array([[1,2,3],[4,5,7]])\n",
    " \n",
    "result = matrix1.flatten()\n",
    "print(\"flattened 2X3 matrix:\",result)\n"
   ]
  },
  {
   "cell_type": "code",
   "execution_count": 1,
   "id": "85df0bae",
   "metadata": {},
   "outputs": [
    {
     "name": "stdout",
     "output_type": "stream",
     "text": [
      "[0 1 2 3]\n"
     ]
    }
   ],
   "source": [
    "#numpy set operation\n",
    "\n",
    "import numpy as np\n",
    "\n",
    "A = np.array([1,2,3])\n",
    "B = np.array([0,2,3])\n",
    "\n",
    "#union of two array\n",
    "result = np.union1d(A,B)\n",
    "\n",
    "print(result)"
   ]
  },
  {
   "cell_type": "code",
   "execution_count": 2,
   "id": "4e0a70ae",
   "metadata": {},
   "outputs": [
    {
     "name": "stdout",
     "output_type": "stream",
     "text": [
      "[3]\n"
     ]
    }
   ],
   "source": [
    "import numpy as np\n",
    "\n",
    "A = np.array([1,3,5])\n",
    "B = np.array([0,2,3])\n",
    "\n",
    "#intersection of two arrays\n",
    "result = np.intersect1d(A,B)\n",
    "\n",
    "print(result)"
   ]
  },
  {
   "cell_type": "code",
   "execution_count": 3,
   "id": "08de314a",
   "metadata": {},
   "outputs": [
    {
     "name": "stdout",
     "output_type": "stream",
     "text": [
      "[1 5]\n"
     ]
    }
   ],
   "source": [
    "import numpy as np\n",
    "\n",
    "A = np.array([1,3,5])\n",
    "B = np.array([0,2,3])\n",
    "\n",
    "#difference of two array\n",
    "result = np.setdiff1d(A,B)\n",
    "\n",
    "print(result)"
   ]
  },
  {
   "cell_type": "code",
   "execution_count": 4,
   "id": "863e4951",
   "metadata": {},
   "outputs": [
    {
     "name": "stdout",
     "output_type": "stream",
     "text": [
      "[0 1 2 5]\n"
     ]
    }
   ],
   "source": [
    "import numpy as np\n",
    "\n",
    "A = np.array([1,3,5])\n",
    "B = np.array([0,2,3])\n",
    "\n",
    "#symmetric difference of two array\n",
    "result = np.setxor1d(A,B)\n",
    "\n",
    "print(result)"
   ]
  },
  {
   "cell_type": "code",
   "execution_count": 5,
   "id": "abd32e37",
   "metadata": {},
   "outputs": [
    {
     "name": "stdout",
     "output_type": "stream",
     "text": [
      "[1 2 3 4 5 7]\n"
     ]
    }
   ],
   "source": [
    "import numpy as np\n",
    "\n",
    "array1 = np.array([1,1,2,2,4,7,7,3,5,2,5])\n",
    "\n",
    "#unique values from array\n",
    "result = np.unique(array1)\n",
    "\n",
    "print(result)"
   ]
  },
  {
   "cell_type": "code",
   "execution_count": 6,
   "id": "2389533c",
   "metadata": {},
   "outputs": [
    {
     "name": "stdout",
     "output_type": "stream",
     "text": [
      "[11 12 13 14 15]\n"
     ]
    }
   ],
   "source": [
    "# numpy vectorization\n",
    "\n",
    "import numpy as np\n",
    "\n",
    "array1= np.array([1,2,3,4,5])\n",
    "number = 10\n",
    "\n",
    "#number sums up with each array element\n",
    "result = array1+number\n",
    "\n",
    "print(result)"
   ]
  },
  {
   "cell_type": "code",
   "execution_count": 7,
   "id": "bbb4895f",
   "metadata": {},
   "outputs": [
    {
     "name": "stdout",
     "output_type": "stream",
     "text": [
      "[[1 3 5]\n",
      " [4 6 8]]\n"
     ]
    }
   ],
   "source": [
    "import numpy as np\n",
    "\n",
    "#define two 2D array\n",
    "array1 = np.array([[1,2,3],[4,5,6]])\n",
    "array2 = np.array([[0,1,2],[0,1,2]])\n",
    "\n",
    "#add two array (vectorization)\n",
    "array_sum = array1 + array2\n",
    "\n",
    "print(array_sum)"
   ]
  },
  {
   "cell_type": "code",
   "execution_count": 11,
   "id": "835babd9",
   "metadata": {},
   "outputs": [
    {
     "name": "stdout",
     "output_type": "stream",
     "text": [
      "for loop time: 0.0\n"
     ]
    }
   ],
   "source": [
    "import time\n",
    "\n",
    "start  = time.time()\n",
    "\n",
    "array1 = [1,2,3,4,5]\n",
    "\n",
    "for i in range(len(array1)):\n",
    "    array1[i] += 10\n",
    "    \n",
    "end = time.time()\n",
    "\n",
    "print(\"for loop time:\", end - start)"
   ]
  },
  {
   "cell_type": "code",
   "execution_count": 12,
   "id": "cc6ad859",
   "metadata": {},
   "outputs": [
    {
     "name": "stdout",
     "output_type": "stream",
     "text": [
      "1693992949.1246197\n",
      "for loop time: 0.0\n"
     ]
    }
   ],
   "source": [
    "import time\n",
    "\n",
    "start  = time.time()\n",
    "\n",
    "array1 = [1,2,3,4,5]\n",
    "\n",
    "for i in range(len(array1)):\n",
    "    array1[i] += 10\n",
    "    \n",
    "end = time.time()           #time taken to execute for loop\n",
    "print(end)\n",
    "\n",
    "print(\"for loop time:\", end - start)"
   ]
  },
  {
   "cell_type": "code",
   "execution_count": 15,
   "id": "b82b2594",
   "metadata": {},
   "outputs": [
    {
     "name": "stdout",
     "output_type": "stream",
     "text": [
      "Vectorization time:  0.0\n"
     ]
    }
   ],
   "source": [
    "import numpy as np\n",
    "import time\n",
    "\n",
    "start  = time.time()\n",
    "\n",
    "array1 = np.array([1,2,3,4,5])\n",
    "\n",
    "result = array1 +10\n",
    "\n",
    "end = time.time()\n",
    "\n",
    "print(\"Vectorization time: \", end - start)"
   ]
  },
  {
   "cell_type": "code",
   "execution_count": 38,
   "id": "f5d84acf",
   "metadata": {},
   "outputs": [
    {
     "name": "stdout",
     "output_type": "stream",
     "text": [
      "year:  2023\n",
      "Month:  2023-04\n",
      "day:  2023-04-29\n",
      "hour:  2023-04-29T10\n",
      "minute :  2023-04-29T10:30\n",
      "seconds:  2023-04-29T10:30:15\n"
     ]
    }
   ],
   "source": [
    "import numpy as np\n",
    "\n",
    "#use datetime64() for different time units\n",
    "year = np.datetime64('2023','Y')\n",
    "month =  np.datetime64('2023-04','M')\n",
    "day =  np.datetime64('2023-04-29','D')\n",
    "hour =  np.datetime64('2023-04-29T10','h')\n",
    "minute =  np.datetime64('2023-04-29T10:30','m')\n",
    "seconds =  np.datetime64('2023-04-29T10:30:15','s')\n",
    "\n",
    "print('year: ',year)\n",
    "print('Month: ',month)\n",
    "print('day: ',day)\n",
    "print('hour: ',hour)\n",
    "print('minute : ',minute)\n",
    "print('seconds: ',seconds)\n"
   ]
  },
  {
   "cell_type": "code",
   "execution_count": 18,
   "id": "18fe9154",
   "metadata": {},
   "outputs": [
    {
     "name": "stdout",
     "output_type": "stream",
     "text": [
      "simple indexing:  4\n",
      "fancy indexing:  [2 3 6 8]\n"
     ]
    }
   ],
   "source": [
    "import numpy as np\n",
    "\n",
    "array1 = np.array([1,2,3,4,5,6,7,8])\n",
    "\n",
    "#select a single element\n",
    "simple_indexing = array1[3]\n",
    "\n",
    "print(\"simple indexing: \",simple_indexing)\n",
    "\n",
    "#select multple elements\n",
    "fancy_indexing = array1[[1,2,5,7]]\n",
    "\n",
    "print(\"fancy indexing: \",fancy_indexing)"
   ]
  },
  {
   "cell_type": "code",
   "execution_count": 20,
   "id": "307c886f",
   "metadata": {},
   "outputs": [
    {
     "name": "stdout",
     "output_type": "stream",
     "text": [
      "8\n"
     ]
    }
   ],
   "source": [
    "#numpy random\n",
    "\n",
    "#random() function generates random floating numbers in the range of 0.1, and 1.0. It takes no parameters and returns values uniformly distributed between 0 and 1\n",
    "# to do the experiment random is required\n",
    "#uses in probablity \n",
    "\n",
    "import numpy as np\n",
    "\n",
    "#generate random integer from 0 to  9\n",
    "random_number = np.random.randint(0,10)      #randint -> random integer\n",
    "\n",
    "print(random_number)"
   ]
  },
  {
   "cell_type": "code",
   "execution_count": 21,
   "id": "521a715d",
   "metadata": {},
   "outputs": [
    {
     "name": "stdout",
     "output_type": "stream",
     "text": [
      "3\n"
     ]
    }
   ],
   "source": [
    "from numpy import random\n",
    "\n",
    "random_number = random.randint(0,10)\n",
    "\n",
    "print(random_number)"
   ]
  },
  {
   "cell_type": "code",
   "execution_count": 22,
   "id": "3d46536c",
   "metadata": {},
   "outputs": [
    {
     "name": "stdout",
     "output_type": "stream",
     "text": [
      "0.8974201425463126\n"
     ]
    }
   ],
   "source": [
    "import numpy as np\n",
    "\n",
    "#generate random float-point number between 0 and 1\n",
    "random_number = np.random.rand()     #random.rand() -> indicates floating value  #random.randint() -> indicates integer value\n",
    "\n",
    "print(random_number)\n",
    "\n"
   ]
  },
  {
   "cell_type": "code",
   "execution_count": 25,
   "id": "f6c0146d",
   "metadata": {},
   "outputs": [
    {
     "name": "stdout",
     "output_type": "stream",
     "text": [
      "1D Random Integer array: \n",
      " [5 6 3 5 2]\n",
      "\n",
      " 1D random float array: \n",
      " [0.02335118 0.09145114 0.61397353 0.22822656 0.06342988]\n",
      "\n",
      " 2D random integer array: \n",
      " [[9 7 6 7]\n",
      " [7 5 5 7]\n",
      " [1 3 6 3]]\n"
     ]
    }
   ],
   "source": [
    "import numpy as np\n",
    "\n",
    "#generate 1D array of 5 random integer between 0 and 9\n",
    "integer_array = np.random.randint(0,10,5)      #here 5 indicates the 5 random values have been given\n",
    "\n",
    "print(\"1D Random Integer array: \\n\",integer_array)\n",
    "\n",
    "#generate 1D of 5 random number betwwen 0 and 1\n",
    "float_array = np.random.rand(5)\n",
    "\n",
    "print(\"\\n 1D random float array: \\n\",float_array)\n",
    "\n",
    "#generate 2D array of shape (3,4) with random integer\n",
    "result = np.random.randint(0,10,(3,4))       #(3,4) indicates the size of matrix\n",
    "\n",
    "print(\"\\n 2D random integer array: \\n\", result)"
   ]
  },
  {
   "cell_type": "code",
   "execution_count": 26,
   "id": "d002bad0",
   "metadata": {},
   "outputs": [
    {
     "name": "stdout",
     "output_type": "stream",
     "text": [
      "3\n"
     ]
    }
   ],
   "source": [
    "# choice function in numpy\n",
    "#used in ludo and many games\n",
    "\n",
    "import numpy as np\n",
    "\n",
    "#create an array of integer from 1 to 5\n",
    "array1 = np.array([1,2,3,4,5])\n",
    "\n",
    "#choose a random number from array\n",
    "random_choice = np.random.choice(array1)\n",
    "\n",
    "print(random_choice)"
   ]
  },
  {
   "cell_type": "markdown",
   "id": "b8abe78f",
   "metadata": {},
   "source": [
    " numpy linear algebra functions\n",
    "\n",
    "operators -> description\n",
    "dot() -> calculates product of two array\n",
    "inner() -> calculates inner product of array\n",
    "outer() -> calculates outer product of atrray\n",
    "det() -> calculates deteminant of a matrix\n",
    "solve() -> solves linear matrix equation\n",
    "inv() ->calulates the multiplicative inverse of the matrix\n",
    "trace() -> calculate the sum of digonal elements"
   ]
  },
  {
   "cell_type": "code",
   "execution_count": 28,
   "id": "e7556fd8",
   "metadata": {},
   "outputs": [
    {
     "name": "stdout",
     "output_type": "stream",
     "text": [
      "44\n"
     ]
    }
   ],
   "source": [
    "import numpy as np\n",
    "\n",
    "array1 = np.array([1,3,5])\n",
    "array2 = np.array([2,4,6])\n",
    "\n",
    "#use of dot() to perform array multiplication\n",
    "result = np.dot(array1,array2)\n",
    "\n",
    "print(result)"
   ]
  },
  {
   "cell_type": "code",
   "execution_count": 31,
   "id": "476bac53",
   "metadata": {},
   "outputs": [
    {
     "name": "stdout",
     "output_type": "stream",
     "text": [
      "[[14 30]\n",
      " [38 86]]\n"
     ]
    }
   ],
   "source": [
    "import numpy as np\n",
    "\n",
    "array1 = np.array([[1,3],\n",
    "                   [5,7]])\n",
    "array2 = np.array([[2,4],\n",
    "                   [6,8]])\n",
    "\n",
    "#use of inner() for 2D array\n",
    "result = np.inner(array1,array2)\n",
    "\n",
    "print(result)"
   ]
  },
  {
   "cell_type": "code",
   "execution_count": 32,
   "id": "364a83cb",
   "metadata": {},
   "outputs": [
    {
     "name": "stdout",
     "output_type": "stream",
     "text": [
      "[[ 2  4  6]\n",
      " [ 6 12 18]\n",
      " [10 20 30]]\n"
     ]
    }
   ],
   "source": [
    "import numpy as np\n",
    "\n",
    "array1 = np.array([1,3,5])\n",
    "array2 = np.array([2,4,6])\n",
    "\n",
    "#use of outer() to perfom outer multiplication\n",
    "result = np.outer(array1,array2)\n",
    "\n",
    "print(result)"
   ]
  },
  {
   "cell_type": "code",
   "execution_count": 33,
   "id": "e7e18abd",
   "metadata": {},
   "outputs": [
    {
     "name": "stdout",
     "output_type": "stream",
     "text": [
      "-7.999999999999998\n"
     ]
    }
   ],
   "source": [
    "import numpy as np\n",
    "\n",
    "#define a square matrix\n",
    "array1 = np.array([[1,3],\n",
    "                   [5,7]])\n",
    "\n",
    "#compute the determinant of array 1\n",
    "result = np.linalg.det(array1)\n",
    "                   \n",
    "print(result)"
   ]
  },
  {
   "cell_type": "code",
   "execution_count": 35,
   "id": "f02ec5c8",
   "metadata": {},
   "outputs": [
    {
     "name": "stdout",
     "output_type": "stream",
     "text": [
      "[-2.    2.25]\n"
     ]
    }
   ],
   "source": [
    "import numpy as np\n",
    "\n",
    "#define the coefficient matrix A\n",
    "A = np.array([[2,4],\n",
    "                [6,8]])\n",
    "    \n",
    "#define the constant vector b\n",
    "b= np.array([5,6])\n",
    "\n",
    "#solve the system of linear equation Ax = b\n",
    "x = np.linalg.solve(A,b)\n",
    "\n",
    "print(x)"
   ]
  },
  {
   "cell_type": "code",
   "execution_count": 36,
   "id": "3cc76b40",
   "metadata": {},
   "outputs": [
    {
     "name": "stdout",
     "output_type": "stream",
     "text": [
      "[[-1.    0.5 ]\n",
      " [ 0.75 -0.25]]\n"
     ]
    }
   ],
   "source": [
    "import numpy as np\n",
    "\n",
    "#define a 2X2 matrix\n",
    "array1 = np.array([[2,4],\n",
    "                [6,8]])\n",
    "\n",
    "#compute the inverse of  matrix\n",
    "result = np.linalg.inv(array1)\n",
    "\n",
    "print(result)\n",
    "    "
   ]
  },
  {
   "cell_type": "code",
   "execution_count": 37,
   "id": "f1f2c467",
   "metadata": {},
   "outputs": [
    {
     "name": "stdout",
     "output_type": "stream",
     "text": [
      "12\n"
     ]
    }
   ],
   "source": [
    "import numpy as np\n",
    "\n",
    "#define a 3X3 matrix\n",
    "array1 = np.array([[6,3,5],\n",
    "                [9,2,1],\n",
    "                  [7,8,4]])\n",
    "\n",
    "#compute the trace of  matrix\n",
    "result = np.trace(array1)\n",
    "\n",
    "print(result)\n",
    "    "
   ]
  }
 ],
 "metadata": {
  "kernelspec": {
   "display_name": "Python 3 (ipykernel)",
   "language": "python",
   "name": "python3"
  },
  "language_info": {
   "codemirror_mode": {
    "name": "ipython",
    "version": 3
   },
   "file_extension": ".py",
   "mimetype": "text/x-python",
   "name": "python",
   "nbconvert_exporter": "python",
   "pygments_lexer": "ipython3",
   "version": "3.11.3"
  }
 },
 "nbformat": 4,
 "nbformat_minor": 5
}
